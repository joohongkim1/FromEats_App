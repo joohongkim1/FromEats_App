{
 "cells": [
  {
   "cell_type": "code",
   "execution_count": 10,
   "metadata": {
    "colab": {},
    "colab_type": "code",
    "id": "OGOMcZCYgK0y"
   },
   "outputs": [],
   "source": [
    "\n",
    "import json\n",
    "import pandas as pd\n",
    "import os\n",
    "import shutil\n",
    "\n",
    "\n",
    "\n",
    "DATA_DIR = \"./data\"\n",
    "DATA_FILE = os.path.join(DATA_DIR, \"data.json\")\n",
    "DUMP_FILE = os.path.join(DATA_DIR, \"dump.pkl\")\n"
   ]
  },
  {
   "cell_type": "code",
   "execution_count": 12,
   "metadata": {
    "colab": {},
    "colab_type": "code",
    "id": "sgHl3DK-gOZw"
   },
   "outputs": [],
   "source": [
    "\n",
    "store_columns = (\n",
    "    \"id\",  # 음식점 고유번호\n",
    "    \"store_name\",  # 음식점 이름\n",
    "    \"branch\",  # 음식점 지점 여부\n",
    "    \"area\",  # 음식점 위치\n",
    "    \"tel\",  # 음식점 번호\n",
    "    \"address\",  # 음식점 주소\n",
    "    \"latitude\",  # 음식점 위도\n",
    "    \"longitude\",  # 음식점 경도\n",
    "    \"category\",  # 음식점 카테고리\n",
    ")\n",
    "\n",
    "review_columns = (\n",
    "    \"id\",  # 리뷰 고유번호\n",
    "    \"store\",  # 음식점 고유번호 (FK)\n",
    "    \"user\",  # 유저 고유번호 (Fk)\n",
    "    \"score\",  # 평점\n",
    "    \"content\",  # 리뷰 내용\n",
    "    \"reg_time\",  # 리뷰 등록 시간\n",
    ")\n",
    "\n",
    "menu_columns = (\n",
    "    \"id\",  # 메뉴 고유번호\n",
    "    \"store\",  # 음식점 고유번호 (FK)\n",
    "    \"menu_name\", # 메뉴 이름\n",
    "    \"price\",  # 메뉴 가격\n",
    ")\n",
    "\n",
    "\n",
    "user_columns = (\n",
    "    \"id\",  # 유저 고유번호\n",
    "    \"gender\",  # 유저 성별\n",
    "    \"age\",  # 유저 나이\n",
    ")\n",
    "\n"
   ]
  },
  {
   "cell_type": "code",
   "execution_count": 13,
   "metadata": {
    "colab": {},
    "colab_type": "code",
    "id": "HkVjcbLogObs"
   },
   "outputs": [
    {
     "ename": "ModuleNotFoundError",
     "evalue": "No module named 'pandas.core.internals.managers'; 'pandas.core.internals' is not a package",
     "output_type": "error",
     "traceback": [
      "\u001b[1;31m---------------------------------------------------------------------------\u001b[0m",
      "\u001b[1;31mModuleNotFoundError\u001b[0m                       Traceback (most recent call last)",
      "\u001b[1;32m<ipython-input-13-1ac29c891e40>\u001b[0m in \u001b[0;36m<module>\u001b[1;34m()\u001b[0m\n\u001b[0;32m    113\u001b[0m \u001b[1;33m\u001b[0m\u001b[0m\n\u001b[0;32m    114\u001b[0m \u001b[1;32mif\u001b[0m \u001b[0m__name__\u001b[0m \u001b[1;33m==\u001b[0m \u001b[1;34m\"__main__\"\u001b[0m\u001b[1;33m:\u001b[0m\u001b[1;33m\u001b[0m\u001b[0m\n\u001b[1;32m--> 115\u001b[1;33m     \u001b[0mdata\u001b[0m \u001b[1;33m=\u001b[0m \u001b[0mload_dataframes\u001b[0m\u001b[1;33m(\u001b[0m\u001b[1;33m)\u001b[0m\u001b[1;33m\u001b[0m\u001b[0m\n\u001b[0m",
      "\u001b[1;32m<ipython-input-13-1ac29c891e40>\u001b[0m in \u001b[0;36mload_dataframes\u001b[1;34m()\u001b[0m\n\u001b[0;32m     71\u001b[0m \u001b[1;33m\u001b[0m\u001b[0m\n\u001b[0;32m     72\u001b[0m \u001b[1;32mdef\u001b[0m \u001b[0mload_dataframes\u001b[0m\u001b[1;33m(\u001b[0m\u001b[1;33m)\u001b[0m\u001b[1;33m:\u001b[0m\u001b[1;33m\u001b[0m\u001b[0m\n\u001b[1;32m---> 73\u001b[1;33m     \u001b[1;32mreturn\u001b[0m \u001b[0mpd\u001b[0m\u001b[1;33m.\u001b[0m\u001b[0mread_pickle\u001b[0m\u001b[1;33m(\u001b[0m\u001b[0mDUMP_FILE\u001b[0m\u001b[1;33m)\u001b[0m\u001b[1;33m\u001b[0m\u001b[0m\n\u001b[0m\u001b[0;32m     74\u001b[0m \u001b[1;33m\u001b[0m\u001b[0m\n\u001b[0;32m     75\u001b[0m \u001b[1;32mdef\u001b[0m \u001b[0mmain\u001b[0m\u001b[1;33m(\u001b[0m\u001b[1;33m)\u001b[0m\u001b[1;33m:\u001b[0m\u001b[1;33m\u001b[0m\u001b[0m\n",
      "\u001b[1;32mC:\\ProgramData\\Anaconda3_new\\lib\\site-packages\\pandas\\io\\pickle.py\u001b[0m in \u001b[0;36mread_pickle\u001b[1;34m(path, compression)\u001b[0m\n\u001b[0;32m    178\u001b[0m     \u001b[1;32mexcept\u001b[0m\u001b[1;33m:\u001b[0m\u001b[1;33m\u001b[0m\u001b[0m\n\u001b[0;32m    179\u001b[0m         \u001b[1;32mif\u001b[0m \u001b[0mPY3\u001b[0m\u001b[1;33m:\u001b[0m\u001b[1;33m\u001b[0m\u001b[0m\n\u001b[1;32m--> 180\u001b[1;33m             \u001b[1;32mreturn\u001b[0m \u001b[0mtry_read\u001b[0m\u001b[1;33m(\u001b[0m\u001b[0mpath\u001b[0m\u001b[1;33m,\u001b[0m \u001b[0mencoding\u001b[0m\u001b[1;33m=\u001b[0m\u001b[1;34m'latin1'\u001b[0m\u001b[1;33m)\u001b[0m\u001b[1;33m\u001b[0m\u001b[0m\n\u001b[0m\u001b[0;32m    181\u001b[0m         \u001b[1;32mraise\u001b[0m\u001b[1;33m\u001b[0m\u001b[0m\n\u001b[0;32m    182\u001b[0m \u001b[1;33m\u001b[0m\u001b[0m\n",
      "\u001b[1;32mC:\\ProgramData\\Anaconda3_new\\lib\\site-packages\\pandas\\io\\pickle.py\u001b[0m in \u001b[0;36mtry_read\u001b[1;34m(path, encoding)\u001b[0m\n\u001b[0;32m    173\u001b[0m             \u001b[1;32mexcept\u001b[0m\u001b[1;33m:\u001b[0m\u001b[1;33m\u001b[0m\u001b[0m\n\u001b[0;32m    174\u001b[0m                 return read_wrapper(\n\u001b[1;32m--> 175\u001b[1;33m                     lambda f: pc.load(f, encoding=encoding, compat=True))\n\u001b[0m\u001b[0;32m    176\u001b[0m     \u001b[1;32mtry\u001b[0m\u001b[1;33m:\u001b[0m\u001b[1;33m\u001b[0m\u001b[0m\n\u001b[0;32m    177\u001b[0m         \u001b[1;32mreturn\u001b[0m \u001b[0mtry_read\u001b[0m\u001b[1;33m(\u001b[0m\u001b[0mpath\u001b[0m\u001b[1;33m)\u001b[0m\u001b[1;33m\u001b[0m\u001b[0m\n",
      "\u001b[1;32mC:\\ProgramData\\Anaconda3_new\\lib\\site-packages\\pandas\\io\\pickle.py\u001b[0m in \u001b[0;36mread_wrapper\u001b[1;34m(func)\u001b[0m\n\u001b[0;32m    147\u001b[0m                             is_text=False)\n\u001b[0;32m    148\u001b[0m         \u001b[1;32mtry\u001b[0m\u001b[1;33m:\u001b[0m\u001b[1;33m\u001b[0m\u001b[0m\n\u001b[1;32m--> 149\u001b[1;33m             \u001b[1;32mreturn\u001b[0m \u001b[0mfunc\u001b[0m\u001b[1;33m(\u001b[0m\u001b[0mf\u001b[0m\u001b[1;33m)\u001b[0m\u001b[1;33m\u001b[0m\u001b[0m\n\u001b[0m\u001b[0;32m    150\u001b[0m         \u001b[1;32mfinally\u001b[0m\u001b[1;33m:\u001b[0m\u001b[1;33m\u001b[0m\u001b[0m\n\u001b[0;32m    151\u001b[0m             \u001b[1;32mfor\u001b[0m \u001b[0m_f\u001b[0m \u001b[1;32min\u001b[0m \u001b[0mfh\u001b[0m\u001b[1;33m:\u001b[0m\u001b[1;33m\u001b[0m\u001b[0m\n",
      "\u001b[1;32mC:\\ProgramData\\Anaconda3_new\\lib\\site-packages\\pandas\\io\\pickle.py\u001b[0m in \u001b[0;36m<lambda>\u001b[1;34m(f)\u001b[0m\n\u001b[0;32m    173\u001b[0m             \u001b[1;32mexcept\u001b[0m\u001b[1;33m:\u001b[0m\u001b[1;33m\u001b[0m\u001b[0m\n\u001b[0;32m    174\u001b[0m                 return read_wrapper(\n\u001b[1;32m--> 175\u001b[1;33m                     lambda f: pc.load(f, encoding=encoding, compat=True))\n\u001b[0m\u001b[0;32m    176\u001b[0m     \u001b[1;32mtry\u001b[0m\u001b[1;33m:\u001b[0m\u001b[1;33m\u001b[0m\u001b[0m\n\u001b[0;32m    177\u001b[0m         \u001b[1;32mreturn\u001b[0m \u001b[0mtry_read\u001b[0m\u001b[1;33m(\u001b[0m\u001b[0mpath\u001b[0m\u001b[1;33m)\u001b[0m\u001b[1;33m\u001b[0m\u001b[0m\n",
      "\u001b[1;32mC:\\ProgramData\\Anaconda3_new\\lib\\site-packages\\pandas\\compat\\pickle_compat.py\u001b[0m in \u001b[0;36mload\u001b[1;34m(fh, encoding, compat, is_verbose)\u001b[0m\n\u001b[0;32m    210\u001b[0m         \u001b[0mup\u001b[0m\u001b[1;33m.\u001b[0m\u001b[0mis_verbose\u001b[0m \u001b[1;33m=\u001b[0m \u001b[0mis_verbose\u001b[0m\u001b[1;33m\u001b[0m\u001b[0m\n\u001b[0;32m    211\u001b[0m \u001b[1;33m\u001b[0m\u001b[0m\n\u001b[1;32m--> 212\u001b[1;33m         \u001b[1;32mreturn\u001b[0m \u001b[0mup\u001b[0m\u001b[1;33m.\u001b[0m\u001b[0mload\u001b[0m\u001b[1;33m(\u001b[0m\u001b[1;33m)\u001b[0m\u001b[1;33m\u001b[0m\u001b[0m\n\u001b[0m\u001b[0;32m    213\u001b[0m     \u001b[1;32mexcept\u001b[0m\u001b[1;33m:\u001b[0m\u001b[1;33m\u001b[0m\u001b[0m\n\u001b[0;32m    214\u001b[0m         \u001b[1;32mraise\u001b[0m\u001b[1;33m\u001b[0m\u001b[0m\n",
      "\u001b[1;32mC:\\ProgramData\\Anaconda3_new\\lib\\pickle.py\u001b[0m in \u001b[0;36mload\u001b[1;34m(self)\u001b[0m\n\u001b[0;32m   1048\u001b[0m                     \u001b[1;32mraise\u001b[0m \u001b[0mEOFError\u001b[0m\u001b[1;33m\u001b[0m\u001b[0m\n\u001b[0;32m   1049\u001b[0m                 \u001b[1;32massert\u001b[0m \u001b[0misinstance\u001b[0m\u001b[1;33m(\u001b[0m\u001b[0mkey\u001b[0m\u001b[1;33m,\u001b[0m \u001b[0mbytes_types\u001b[0m\u001b[1;33m)\u001b[0m\u001b[1;33m\u001b[0m\u001b[0m\n\u001b[1;32m-> 1050\u001b[1;33m                 \u001b[0mdispatch\u001b[0m\u001b[1;33m[\u001b[0m\u001b[0mkey\u001b[0m\u001b[1;33m[\u001b[0m\u001b[1;36m0\u001b[0m\u001b[1;33m]\u001b[0m\u001b[1;33m]\u001b[0m\u001b[1;33m(\u001b[0m\u001b[0mself\u001b[0m\u001b[1;33m)\u001b[0m\u001b[1;33m\u001b[0m\u001b[0m\n\u001b[0m\u001b[0;32m   1051\u001b[0m         \u001b[1;32mexcept\u001b[0m \u001b[0m_Stop\u001b[0m \u001b[1;32mas\u001b[0m \u001b[0mstopinst\u001b[0m\u001b[1;33m:\u001b[0m\u001b[1;33m\u001b[0m\u001b[0m\n\u001b[0;32m   1052\u001b[0m             \u001b[1;32mreturn\u001b[0m \u001b[0mstopinst\u001b[0m\u001b[1;33m.\u001b[0m\u001b[0mvalue\u001b[0m\u001b[1;33m\u001b[0m\u001b[0m\n",
      "\u001b[1;32mC:\\ProgramData\\Anaconda3_new\\lib\\pickle.py\u001b[0m in \u001b[0;36mload_stack_global\u001b[1;34m(self)\u001b[0m\n\u001b[0;32m   1345\u001b[0m         \u001b[1;32mif\u001b[0m \u001b[0mtype\u001b[0m\u001b[1;33m(\u001b[0m\u001b[0mname\u001b[0m\u001b[1;33m)\u001b[0m \u001b[1;32mis\u001b[0m \u001b[1;32mnot\u001b[0m \u001b[0mstr\u001b[0m \u001b[1;32mor\u001b[0m \u001b[0mtype\u001b[0m\u001b[1;33m(\u001b[0m\u001b[0mmodule\u001b[0m\u001b[1;33m)\u001b[0m \u001b[1;32mis\u001b[0m \u001b[1;32mnot\u001b[0m \u001b[0mstr\u001b[0m\u001b[1;33m:\u001b[0m\u001b[1;33m\u001b[0m\u001b[0m\n\u001b[0;32m   1346\u001b[0m             \u001b[1;32mraise\u001b[0m \u001b[0mUnpicklingError\u001b[0m\u001b[1;33m(\u001b[0m\u001b[1;34m\"STACK_GLOBAL requires str\"\u001b[0m\u001b[1;33m)\u001b[0m\u001b[1;33m\u001b[0m\u001b[0m\n\u001b[1;32m-> 1347\u001b[1;33m         \u001b[0mself\u001b[0m\u001b[1;33m.\u001b[0m\u001b[0mappend\u001b[0m\u001b[1;33m(\u001b[0m\u001b[0mself\u001b[0m\u001b[1;33m.\u001b[0m\u001b[0mfind_class\u001b[0m\u001b[1;33m(\u001b[0m\u001b[0mmodule\u001b[0m\u001b[1;33m,\u001b[0m \u001b[0mname\u001b[0m\u001b[1;33m)\u001b[0m\u001b[1;33m)\u001b[0m\u001b[1;33m\u001b[0m\u001b[0m\n\u001b[0m\u001b[0;32m   1348\u001b[0m     \u001b[0mdispatch\u001b[0m\u001b[1;33m[\u001b[0m\u001b[0mSTACK_GLOBAL\u001b[0m\u001b[1;33m[\u001b[0m\u001b[1;36m0\u001b[0m\u001b[1;33m]\u001b[0m\u001b[1;33m]\u001b[0m \u001b[1;33m=\u001b[0m \u001b[0mload_stack_global\u001b[0m\u001b[1;33m\u001b[0m\u001b[0m\n\u001b[0;32m   1349\u001b[0m \u001b[1;33m\u001b[0m\u001b[0m\n",
      "\u001b[1;32mC:\\ProgramData\\Anaconda3_new\\lib\\site-packages\\pandas\\compat\\pickle_compat.py\u001b[0m in \u001b[0;36mfind_class\u001b[1;34m(self, module, name)\u001b[0m\n\u001b[0;32m    133\u001b[0m             \u001b[0mkey\u001b[0m \u001b[1;33m=\u001b[0m \u001b[1;33m(\u001b[0m\u001b[0mmodule\u001b[0m\u001b[1;33m,\u001b[0m \u001b[0mname\u001b[0m\u001b[1;33m)\u001b[0m\u001b[1;33m\u001b[0m\u001b[0m\n\u001b[0;32m    134\u001b[0m             \u001b[0mmodule\u001b[0m\u001b[1;33m,\u001b[0m \u001b[0mname\u001b[0m \u001b[1;33m=\u001b[0m \u001b[0m_class_locations_map\u001b[0m\u001b[1;33m.\u001b[0m\u001b[0mget\u001b[0m\u001b[1;33m(\u001b[0m\u001b[0mkey\u001b[0m\u001b[1;33m,\u001b[0m \u001b[0mkey\u001b[0m\u001b[1;33m)\u001b[0m\u001b[1;33m\u001b[0m\u001b[0m\n\u001b[1;32m--> 135\u001b[1;33m             \u001b[1;32mreturn\u001b[0m \u001b[0msuper\u001b[0m\u001b[1;33m(\u001b[0m\u001b[0mUnpickler\u001b[0m\u001b[1;33m,\u001b[0m \u001b[0mself\u001b[0m\u001b[1;33m)\u001b[0m\u001b[1;33m.\u001b[0m\u001b[0mfind_class\u001b[0m\u001b[1;33m(\u001b[0m\u001b[0mmodule\u001b[0m\u001b[1;33m,\u001b[0m \u001b[0mname\u001b[0m\u001b[1;33m)\u001b[0m\u001b[1;33m\u001b[0m\u001b[0m\n\u001b[0m\u001b[0;32m    136\u001b[0m \u001b[1;33m\u001b[0m\u001b[0m\n\u001b[0;32m    137\u001b[0m \u001b[1;32melse\u001b[0m\u001b[1;33m:\u001b[0m\u001b[1;33m\u001b[0m\u001b[0m\n",
      "\u001b[1;32mC:\\ProgramData\\Anaconda3_new\\lib\\pickle.py\u001b[0m in \u001b[0;36mfind_class\u001b[1;34m(self, module, name)\u001b[0m\n\u001b[0;32m   1386\u001b[0m             \u001b[1;32melif\u001b[0m \u001b[0mmodule\u001b[0m \u001b[1;32min\u001b[0m \u001b[0m_compat_pickle\u001b[0m\u001b[1;33m.\u001b[0m\u001b[0mIMPORT_MAPPING\u001b[0m\u001b[1;33m:\u001b[0m\u001b[1;33m\u001b[0m\u001b[0m\n\u001b[0;32m   1387\u001b[0m                 \u001b[0mmodule\u001b[0m \u001b[1;33m=\u001b[0m \u001b[0m_compat_pickle\u001b[0m\u001b[1;33m.\u001b[0m\u001b[0mIMPORT_MAPPING\u001b[0m\u001b[1;33m[\u001b[0m\u001b[0mmodule\u001b[0m\u001b[1;33m]\u001b[0m\u001b[1;33m\u001b[0m\u001b[0m\n\u001b[1;32m-> 1388\u001b[1;33m         \u001b[0m__import__\u001b[0m\u001b[1;33m(\u001b[0m\u001b[0mmodule\u001b[0m\u001b[1;33m,\u001b[0m \u001b[0mlevel\u001b[0m\u001b[1;33m=\u001b[0m\u001b[1;36m0\u001b[0m\u001b[1;33m)\u001b[0m\u001b[1;33m\u001b[0m\u001b[0m\n\u001b[0m\u001b[0;32m   1389\u001b[0m         \u001b[1;32mif\u001b[0m \u001b[0mself\u001b[0m\u001b[1;33m.\u001b[0m\u001b[0mproto\u001b[0m \u001b[1;33m>=\u001b[0m \u001b[1;36m4\u001b[0m\u001b[1;33m:\u001b[0m\u001b[1;33m\u001b[0m\u001b[0m\n\u001b[0;32m   1390\u001b[0m             \u001b[1;32mreturn\u001b[0m \u001b[0m_getattribute\u001b[0m\u001b[1;33m(\u001b[0m\u001b[0msys\u001b[0m\u001b[1;33m.\u001b[0m\u001b[0mmodules\u001b[0m\u001b[1;33m[\u001b[0m\u001b[0mmodule\u001b[0m\u001b[1;33m]\u001b[0m\u001b[1;33m,\u001b[0m \u001b[0mname\u001b[0m\u001b[1;33m)\u001b[0m\u001b[1;33m[\u001b[0m\u001b[1;36m0\u001b[0m\u001b[1;33m]\u001b[0m\u001b[1;33m\u001b[0m\u001b[0m\n",
      "\u001b[1;31mModuleNotFoundError\u001b[0m: No module named 'pandas.core.internals.managers'; 'pandas.core.internals' is not a package"
     ]
    }
   ],
   "source": [
    "\n",
    "def import_data(data_path=DATA_FILE):\n",
    "    \"\"\"\n",
    "    Req. 1-1-1 음식점 데이터 파일을 읽어서 Pandas DataFrame 형태로 저장합니다\n",
    "    \"\"\"\n",
    "\n",
    "\n",
    "    try:\n",
    "        with open(data_path, encoding=\"utf-8\") as f:\n",
    "            data = json.loads(f.read())\n",
    "    except FileNotFoundError as e:\n",
    "        print(f\"`{data_path}` 가 존재하지 않습니다.\")\n",
    "        exit(1)\n",
    "#     print('=======================json_loads=====================')\n",
    "#     test = pd.DataFrame(data=data)\n",
    "#     print(test['review_list'])\n",
    "#     print('=======================json_loads=====================')\n",
    "\n",
    "    stores = []  # 음식점 테이블\n",
    "    reviews = []  # 리뷰 테이블\n",
    "    menus = [] # 메뉴 테이블\n",
    "    users = [] # 유저 테이블\n",
    "    \n",
    "    idx = 0\n",
    "    for d in data:\n",
    "\n",
    "        categories = [c[\"category\"] for c in d[\"category_list\"]]\n",
    "        stores.append(\n",
    "            [\n",
    "                d[\"id\"],\n",
    "                d[\"name\"],\n",
    "                d[\"branch\"],\n",
    "                d[\"area\"],\n",
    "                d[\"tel\"],\n",
    "                d[\"address\"],\n",
    "                d[\"latitude\"],\n",
    "                d[\"longitude\"],\n",
    "                \"|\".join(categories),\n",
    "            ]\n",
    "        )\n",
    "\n",
    "        for review in d[\"review_list\"]:\n",
    "            r = review[\"review_info\"]\n",
    "            u = review[\"writer_info\"]\n",
    "\n",
    "            reviews.append(\n",
    "                [r[\"id\"], d[\"id\"], u[\"id\"], r[\"score\"], r[\"content\"], r[\"reg_time\"]]\n",
    "            )\n",
    "            \n",
    "            users.append(\n",
    "                [u[\"id\"], u[\"gender\"], 2021-int(u[\"born_year\"])]\n",
    "            )\n",
    "        \n",
    "        for m in d[\"menu_list\"]:\n",
    "            idx += 1\n",
    "            menus.append(\n",
    "                [str(idx), d[\"id\"], m[\"menu\"], m[\"price\"]]\n",
    "            )\n",
    "    store_frame = pd.DataFrame(data=stores, columns=store_columns)\n",
    "    review_frame = pd.DataFrame(data=reviews, columns=review_columns)\n",
    "    user_frame = pd.DataFrame(data=users, columns=user_columns)\n",
    "    menu_frame = pd.DataFrame(data=menus, columns=menu_columns)\n",
    "    \n",
    "\n",
    "    return {\"stores\": store_frame, \"reviews\": review_frame, \"users\":user_frame, \"menus\":menu_frame,}\n",
    "\n",
    "\n",
    "def dump_dataframes(dataframes):\n",
    "    pd.to_pickle(dataframes, DUMP_FILE)\n",
    "\n",
    "\n",
    "def load_dataframes():\n",
    "    return pd.read_pickle(DUMP_FILE)\n",
    "\n",
    "def main():\n",
    "\n",
    "    print(\"[*] Parsing data...\")\n",
    "    data = import_data()\n",
    "    print(\"[+] Done\")\n",
    "\n",
    "    print(\"[*] Dumping data...\")\n",
    "    dump_dataframes(data)\n",
    "    print(\"[+] Done\\n\")\n",
    "\n",
    "    data = load_dataframes()\n",
    "\n",
    "    term_w = shutil.get_terminal_size()[0] - 1\n",
    "    separater = \"-\" * term_w\n",
    "\n",
    "    print(\"[음식점]\")\n",
    "    print(f\"{separater}\\n\")\n",
    "    print(data[\"stores\"].head(20))\n",
    "    print(f\"\\n{separater}\\n\\n\")\n",
    "\n",
    "    print(\"[리뷰]\")\n",
    "    print(f\"{separater}\\n\")\n",
    "    print(data[\"reviews\"].head(20))\n",
    "    print(f\"\\n{separater}\\n\\n\")\n",
    "\n",
    "    print(\"[메뉴]\")\n",
    "    print(f\"{separater}\\n\")\n",
    "    print(data[\"menus\"].head(20))\n",
    "    print(f\"\\n{separater}\\n\\n\")\n",
    "        \n",
    "    \n",
    "    print(\"[유저]\")\n",
    "    print(f\"{separater}\\n\")\n",
    "    print(data[\"users\"].head(20))\n",
    "    print(f\"\\n{separater}\\n\\n\")\n",
    "\n",
    "    \n",
    "    \n",
    "\n",
    "if __name__ == \"__main__\":\n",
    "    data = load_dataframes()\n"
   ]
  },
  {
   "cell_type": "code",
   "execution_count": 9,
   "metadata": {
    "colab": {},
    "colab_type": "code",
    "id": "fNwLBCD0gOeS"
   },
   "outputs": [
    {
     "ename": "NameError",
     "evalue": "name 'data' is not defined",
     "output_type": "error",
     "traceback": [
      "\u001b[1;31m---------------------------------------------------------------------------\u001b[0m",
      "\u001b[1;31mNameError\u001b[0m                                 Traceback (most recent call last)",
      "\u001b[1;32m<ipython-input-9-d62848f7e3f5>\u001b[0m in \u001b[0;36m<module>\u001b[1;34m()\u001b[0m\n\u001b[1;32m----> 1\u001b[1;33m \u001b[0mdf\u001b[0m \u001b[1;33m=\u001b[0m \u001b[0mdata\u001b[0m\u001b[1;33m[\u001b[0m\u001b[1;34m\"stores\"\u001b[0m\u001b[1;33m]\u001b[0m\u001b[1;33m\u001b[0m\u001b[0m\n\u001b[0m\u001b[0;32m      2\u001b[0m \u001b[1;33m\u001b[0m\u001b[0m\n\u001b[0;32m      3\u001b[0m \u001b[1;32mdef\u001b[0m \u001b[0mfilter_category\u001b[0m\u001b[1;33m(\u001b[0m\u001b[0mcategory\u001b[0m\u001b[1;33m)\u001b[0m\u001b[1;33m:\u001b[0m\u001b[1;33m\u001b[0m\u001b[0m\n\u001b[0;32m      4\u001b[0m     \u001b[0mA\u001b[0m \u001b[1;33m=\u001b[0m \u001b[1;33m[\u001b[0m\u001b[1;34m\"쌀국수\"\u001b[0m\u001b[1;33m,\u001b[0m \u001b[1;34m\"베트남\"\u001b[0m\u001b[1;33m,\u001b[0m \u001b[1;34m\"태국\"\u001b[0m\u001b[1;33m,\u001b[0m \u001b[1;34m\"중앙아시아\"\u001b[0m\u001b[1;33m,\u001b[0m \u001b[1;34m\"아시아\"\u001b[0m\u001b[1;33m,\u001b[0m \u001b[1;34m\"인도\"\u001b[0m\u001b[1;33m,\u001b[0m \u001b[1;34m\"중동\"\u001b[0m\u001b[1;33m]\u001b[0m\u001b[1;33m\u001b[0m\u001b[0m\n\u001b[0;32m      5\u001b[0m     \u001b[1;32mfor\u001b[0m \u001b[0ma\u001b[0m \u001b[1;32min\u001b[0m \u001b[0mA\u001b[0m\u001b[1;33m:\u001b[0m\u001b[1;33m\u001b[0m\u001b[0m\n",
      "\u001b[1;31mNameError\u001b[0m: name 'data' is not defined"
     ]
    }
   ],
   "source": [
    "df = data[\"stores\"]\n",
    "\n",
    "def filter_category(category):\n",
    "    A = [\"쌀국수\", \"베트남\", \"태국\", \"중앙아시아\", \"아시아\", \"인도\", \"중동\"]\n",
    "    for a in A:\n",
    "        if a in category:\n",
    "            return \"아시안요리\"\n",
    "\n",
    "    B = [\"중식\", \"중국\", \"중화요리\"]\n",
    "    for b in B:\n",
    "        if b in category:\n",
    "            return \"중식\"\n",
    "\n",
    "    C = [\"떡볶이\", \"김밥\"]\n",
    "    for c in C:\n",
    "        if c in category:\n",
    "            return \"분식\"\n",
    "\n",
    "    D = [\"치킨\", \"통닭\", \"닭강정\"]\n",
    "    for d in D:\n",
    "        if d in category:\n",
    "            return \"치킨\"\n",
    "    \n",
    "    E = [\"짜장\", \"훠궈\", \"양꼬치\", \"마라\", \"짬뽕\", \"양고기\"]\n",
    "    for e in E:\n",
    "        if e in category:\n",
    "            return \"중식\"\n",
    "\n",
    "    F = [\"분식\"]\n",
    "    for f in F:\n",
    "        if f in category:\n",
    "            return \"분식\"\n",
    "    \n",
    "    G = [\"한식\", \"곤드레밥\", \"부대찌개\", \"감자탕\", \"국밥\", \"해장국\", \"백반\", \"닭볶음탕\", \"닭갈비\", \"닭곰탕\", \"죽\",\n",
    "         \"추어탕\", \"닭도리탕\", \"아구찜\", \"해물탕\"]\n",
    "    for g in G:\n",
    "        if g in category:\n",
    "            return \"한식\"\n",
    " \n",
    "    H = [\"족발\", \"보쌈\"]\n",
    "    for h in H:\n",
    "        if h in category:\n",
    "            return \"족발\"\n",
    "\n",
    "    I = [\"국수\", \"만두전골\", \"두부\", \"샤브샤브\", \"낙지\", \"간장게장\", \"찜닭\", \"꼼장어\", \"조개구이\", \"갈낙탕\",\n",
    "         \"갈비탕만\", \"곰탕\", \"우거지\", \"청국장\"]\n",
    "    for i in I:\n",
    "        if i in category:\n",
    "            return \"한식\"\n",
    "\n",
    "    J = [\"갈비만두\", \"만두\"]\n",
    "    for j in J:\n",
    "        if j in category:\n",
    "            return \"분식\"\n",
    "\n",
    "    K = [\"버거\"]\n",
    "    for k in K:\n",
    "        if k in category:\n",
    "            return \"버거\"\n",
    "\n",
    "    L = [\"펍\", \"pub\"]\n",
    "    for l in L:\n",
    "        if l in category:\n",
    "            return \"술\"\n",
    "\n",
    "    M = [\"삼겹살\", \"고기집\", \"목살\", \"la갈비\", \"갈매기살\", \"곱창\", \"막창\", \"갈비살\", \"가브리살\"]\n",
    "    for m in M:\n",
    "        if m in category:\n",
    "            return \"고기\"\n",
    "\n",
    "    N = [\"스파게티\", \"파스타\", \"pizza\", \"피자\", \"스테이크\", \"이탈리\", \"spaghetti\", \"pasta\"]\n",
    "    for n in N:\n",
    "        if n in category:\n",
    "            return \"피자,파스타,스테이크\"\n",
    "\n",
    "\n",
    "\n",
    "    O = [\"일식\", \"초밥\", \"가츠동\", \"회덮밥\", \"돈까스\", \"돈가스\", \"횟집\"]\n",
    "    for o in O:\n",
    "        if o in category:\n",
    "            return \"돈가스,회,일식\"\n",
    "\n",
    "    P = [\"cafe\", \"카페\", \"빙수\", \"베이커리\", \"디저트\"]  # 더있음\n",
    "    for p in P:\n",
    "        if p in category:\n",
    "            return \"카페\"\n",
    "\n",
    "    QQ = [\"술집\", \"포차\", \"닭발\", \"bar\", \"맥주\", \"호프\", \"가라아게\"]  # 더있음\n",
    "    for q in QQ:\n",
    "        if q in category:\n",
    "            return \"술\"\n",
    "\n",
    "\n",
    "\n",
    "df[\"big_cate\"] = df[\"category\"].apply(lambda category: filter_category(category))\n",
    "# print(df)\n",
    "print(df.head(20))\n",
    "data[\"stores\"] = df"
   ]
  },
  {
   "cell_type": "code",
   "execution_count": 8,
   "metadata": {
    "colab": {},
    "colab_type": "code",
    "id": "hlL-o8H0gOgY"
   },
   "outputs": [
    {
     "ename": "NameError",
     "evalue": "name 'data' is not defined",
     "output_type": "error",
     "traceback": [
      "\u001b[1;31m---------------------------------------------------------------------------\u001b[0m",
      "\u001b[1;31mNameError\u001b[0m                                 Traceback (most recent call last)",
      "\u001b[1;32m<ipython-input-8-866a1bacb97a>\u001b[0m in \u001b[0;36m<module>\u001b[1;34m()\u001b[0m\n\u001b[1;32m----> 1\u001b[1;33m \u001b[0mstores\u001b[0m \u001b[1;33m=\u001b[0m \u001b[0mdata\u001b[0m\u001b[1;33m[\u001b[0m\u001b[1;34m\"stores\"\u001b[0m\u001b[1;33m]\u001b[0m\u001b[1;33m\u001b[0m\u001b[0m\n\u001b[0m\u001b[0;32m      2\u001b[0m \u001b[0musers\u001b[0m \u001b[1;33m=\u001b[0m \u001b[0mdata\u001b[0m\u001b[1;33m[\u001b[0m\u001b[1;34m\"users\"\u001b[0m\u001b[1;33m]\u001b[0m\u001b[1;33m\u001b[0m\u001b[0m\n\u001b[0;32m      3\u001b[0m \u001b[0mreviews\u001b[0m \u001b[1;33m=\u001b[0m \u001b[0mdata\u001b[0m\u001b[1;33m[\u001b[0m\u001b[1;34m\"reviews\"\u001b[0m\u001b[1;33m]\u001b[0m\u001b[1;33m\u001b[0m\u001b[0m\n",
      "\u001b[1;31mNameError\u001b[0m: name 'data' is not defined"
     ]
    }
   ],
   "source": [
    "stores = data[\"stores\"]\n",
    "users = data[\"users\"]\n",
    "reviews = data[\"reviews\"]"
   ]
  },
  {
   "cell_type": "code",
   "execution_count": 0,
   "metadata": {
    "colab": {},
    "colab_type": "code",
    "id": "TY3uvnMtgOiE"
   },
   "outputs": [],
   "source": [
    "stores_reviews = pd.merge(\n",
    "reviews, users, left_on=\"user\", right_on=\"id\"\n",
    ")"
   ]
  },
  {
   "cell_type": "code",
   "execution_count": 0,
   "metadata": {
    "colab": {},
    "colab_type": "code",
    "id": "hayRNW9ugOj-"
   },
   "outputs": [],
   "source": [
    "# 유저 기준 리뷰로 묶어냄\n",
    "stores_reviews = stores_reviews.drop_duplicates()"
   ]
  },
  {
   "cell_type": "code",
   "execution_count": 7,
   "metadata": {
    "colab": {},
    "colab_type": "code",
    "id": "QGj-6BX3gOm8"
   },
   "outputs": [
    {
     "ename": "NameError",
     "evalue": "name 'data' is not defined",
     "output_type": "error",
     "traceback": [
      "\u001b[1;31m---------------------------------------------------------------------------\u001b[0m",
      "\u001b[1;31mNameError\u001b[0m                                 Traceback (most recent call last)",
      "\u001b[1;32m<ipython-input-7-37cf0bb40e09>\u001b[0m in \u001b[0;36m<module>\u001b[1;34m()\u001b[0m\n\u001b[1;32m----> 1\u001b[1;33m \u001b[0mstores\u001b[0m \u001b[1;33m=\u001b[0m \u001b[0mdata\u001b[0m\u001b[1;33m[\u001b[0m\u001b[1;34m\"stores\"\u001b[0m\u001b[1;33m]\u001b[0m\u001b[1;33m\u001b[0m\u001b[0m\n\u001b[0m\u001b[0;32m      2\u001b[0m \u001b[1;33m\u001b[0m\u001b[0m\n\u001b[0;32m      3\u001b[0m df = pd.merge(\n\u001b[0;32m      4\u001b[0m \u001b[0mstores\u001b[0m\u001b[1;33m,\u001b[0m \u001b[0mstores_reviews\u001b[0m\u001b[1;33m,\u001b[0m \u001b[0mleft_on\u001b[0m\u001b[1;33m=\u001b[0m\u001b[1;34m\"id\"\u001b[0m\u001b[1;33m,\u001b[0m \u001b[0mright_on\u001b[0m\u001b[1;33m=\u001b[0m\u001b[1;34m\"store\"\u001b[0m\u001b[1;33m\u001b[0m\u001b[0m\n\u001b[0;32m      5\u001b[0m )\n",
      "\u001b[1;31mNameError\u001b[0m: name 'data' is not defined"
     ]
    }
   ],
   "source": [
    "stores = data[\"stores\"]\n",
    "\n",
    "df = pd.merge(\n",
    "stores, stores_reviews, left_on=\"id\", right_on=\"store\"\n",
    ")"
   ]
  },
  {
   "cell_type": "code",
   "execution_count": 0,
   "metadata": {
    "colab": {},
    "colab_type": "code",
    "id": "gDyXebTngOpK"
   },
   "outputs": [],
   "source": [
    "df.columns # big_cate 있는지 확인"
   ]
  },
  {
   "cell_type": "code",
   "execution_count": 0,
   "metadata": {
    "colab": {},
    "colab_type": "code",
    "id": "n8ClWKr6gOr0"
   },
   "outputs": [],
   "source": [
    "df = df[['store','store_name','user', 'content','score', 'big_cate']]"
   ]
  },
  {
   "cell_type": "code",
   "execution_count": 0,
   "metadata": {
    "colab": {},
    "colab_type": "code",
    "id": "NKV-XpdtgOuE"
   },
   "outputs": [],
   "source": [
    "df.head()"
   ]
  },
  {
   "cell_type": "code",
   "execution_count": 0,
   "metadata": {
    "colab": {},
    "colab_type": "code",
    "id": "TljIbQMsgOv4"
   },
   "outputs": [],
   "source": [
    "df = df[[\"user\", \"store_name\", \"score\"]]"
   ]
  },
  {
   "cell_type": "code",
   "execution_count": 0,
   "metadata": {
    "colab": {},
    "colab_type": "code",
    "id": "KLGjNRD5gOy5"
   },
   "outputs": [],
   "source": [
    "df.head()"
   ]
  },
  {
   "cell_type": "code",
   "execution_count": 0,
   "metadata": {
    "colab": {},
    "colab_type": "code",
    "id": "fX4nm3b3gO16"
   },
   "outputs": [],
   "source": [
    "# 테이블을 딕셔너리로 만들기\n",
    "def recur_dict(frame):\n",
    "    if len(frame.columns) == 1:\n",
    "        if frame.values.size == 1 : return frame.values[0][0]\n",
    "        return frame.values.squeeze()\n",
    "    grouped = frame.groupby(frame.columns[0])\n",
    "    d = {k : recur_dict(g.iloc[:, 1:]) for k, g in grouped}\n",
    "    return d"
   ]
  },
  {
   "cell_type": "code",
   "execution_count": 0,
   "metadata": {
    "colab": {},
    "colab_type": "code",
    "id": "ncIbMovkgO3w"
   },
   "outputs": [],
   "source": [
    "df_to_dict = recur_dict(df)"
   ]
  },
  {
   "cell_type": "code",
   "execution_count": 0,
   "metadata": {
    "colab": {},
    "colab_type": "code",
    "id": "NI7ExyUrgO7C"
   },
   "outputs": [],
   "source": [
    "df_to_dict"
   ]
  },
  {
   "cell_type": "code",
   "execution_count": 0,
   "metadata": {
    "colab": {},
    "colab_type": "code",
    "id": "QwK0mKGJgO9c"
   },
   "outputs": [],
   "source": [
    "# 사용자 목록, 음식점 목록 리스트에 담기\n",
    "name_list = [] # 사용자 목록 # 중복 불가\n",
    "store_set = set() # 화장품 목록을 담을 set # 중복 가능\n",
    "\n",
    "# 사용자 수만큼 반복함\n",
    "for user_key in df_to_dict:\n",
    "    name_list.append(user_key)\n",
    "    # 현재 사용자가 리뷰를 남긴 가게 목록을 set에 담는다.\n",
    "    for store_key in df_to_dict[user_key]:\n",
    "        store_set.add(store_key)\n"
   ]
  },
  {
   "cell_type": "code",
   "execution_count": 0,
   "metadata": {
    "colab": {},
    "colab_type": "code",
    "id": "GZkYyXDcgO_f"
   },
   "outputs": [],
   "source": [
    "store_set"
   ]
  },
  {
   "cell_type": "code",
   "execution_count": 0,
   "metadata": {
    "colab": {},
    "colab_type": "code",
    "id": "I1LZgmcHgPDw"
   },
   "outputs": [],
   "source": [
    "store_list = list(store_set)"
   ]
  },
  {
   "cell_type": "code",
   "execution_count": 0,
   "metadata": {
    "colab": {},
    "colab_type": "code",
    "id": "QQrmWdNwgPGa"
   },
   "outputs": [],
   "source": [
    "# CF 추천시스템에 사용할 rating 추천 딕셔너리 만들기(유저번호, 가게이름, 평점, 카테고리)"
   ]
  },
  {
   "cell_type": "code",
   "execution_count": 0,
   "metadata": {
    "colab": {},
    "colab_type": "code",
    "id": "fREjHo7XgPJM"
   },
   "outputs": [],
   "source": [
    "rating_dic = {\n",
    "    'user'  :[],\n",
    "    'store_name':[],\n",
    "     'rating':[],\n",
    "}\n",
    "# 사용자 수 만큼 반복하는 알고리즘\n",
    "for name_key in df_to_dict:\n",
    "    for store_key in df_to_dict[name_key]:\n",
    "        a1  = name_list.index(name_key)\n",
    "        a2 = store_list.index(store_key)\n",
    "        a3 = df_to_dict[name_key][store_key]\n",
    "        \n",
    "        rating_dic[\"user\"].append(a1)\n",
    "        rating_dic[\"store_name\"].append(a2)\n",
    "        rating_dic[\"rating\"].append(a3)"
   ]
  },
  {
   "cell_type": "code",
   "execution_count": 0,
   "metadata": {
    "colab": {},
    "colab_type": "code",
    "id": "cOcHuYvtgPLP"
   },
   "outputs": [],
   "source": [
    "# 사용자 - 가게 - 평점 출력 => 나중에는 가게 말고 big 카테고리 기준으로 나눠서 카테고리 나눠볼까함\n",
    "# 키워드 추출 대신 이렇게 함? \n",
    "print(len(rating_dic[\"user\"]))\n",
    "print(len(rating_dic[\"store_name\"]))\n",
    "print(len(rating_dic[\"rating\"]))"
   ]
  },
  {
   "cell_type": "code",
   "execution_count": 0,
   "metadata": {
    "colab": {},
    "colab_type": "code",
    "id": "LaP-RQoggPNQ"
   },
   "outputs": [],
   "source": [
    "print(rating_dic[\"user\"])\n",
    "print(rating_dic[\"store_name\"])\n",
    "print(rating_dic[\"rating\"])"
   ]
  },
  {
   "cell_type": "code",
   "execution_count": 0,
   "metadata": {
    "colab": {},
    "colab_type": "code",
    "id": "JptyfjlHgPQs"
   },
   "outputs": [],
   "source": [
    "# 데이터 셋 만들기\n",
    "rating_df = pd.DataFrame(rating_dic)\n",
    "rating_df"
   ]
  },
  {
   "cell_type": "code",
   "execution_count": 0,
   "metadata": {
    "colab": {},
    "colab_type": "code",
    "id": "9XpGCuaRgPS0"
   },
   "outputs": [],
   "source": [
    "# 딕셔너리 바탕으로 사용자 이름 "
   ]
  },
  {
   "cell_type": "code",
   "execution_count": 0,
   "metadata": {
    "colab": {},
    "colab_type": "code",
    "id": "yMCwdLd2gttT"
   },
   "outputs": [],
   "source": [
    "import surprise\n",
    "# 데이터를 읽어들이는 객체 생성(rating_scale=0~5)\n",
    "reader = surprise.Reader(rating_scale=(0, 5))\n",
    "reader"
   ]
  },
  {
   "cell_type": "code",
   "execution_count": 0,
   "metadata": {
    "colab": {},
    "colab_type": "code",
    "id": "F0rb95sigtvX"
   },
   "outputs": [],
   "source": [
    "# surprise에서 사용할 데이터 셋을 구성하는데 필요한 이름\n",
    "# 데이터가 저장되어 있는 딕셔너리의 컬럼 이름\n",
    "# 첫번째 -> user, 두번째 -> store, 세번째 -> rating\n",
    "col_list = [\"user\", \"store_name\", \"rating\"]\n",
    "data = surprise.Dataset.load_from_df(df[col_list].reader)\n",
    "print(col_list)\n",
    "print(data)"
   ]
  },
  {
   "cell_type": "code",
   "execution_count": 0,
   "metadata": {
    "colab": {},
    "colab_type": "code",
    "id": "QNnJ1vPFgtxZ"
   },
   "outputs": [],
   "source": [
    "# 학습\n",
    "trainset = data.build_full_trainset()\n",
    "option = {\"name\":\"pearson\"} # 피어슨 유사도 사용\n",
    "algo = surprise.KNNBasic(sim_options=option) #surprise.KNNBasic사용\n",
    "algo.git(train_set)"
   ]
  },
  {
   "cell_type": "code",
   "execution_count": 0,
   "metadata": {
    "colab": {},
    "colab_type": "code",
    "id": "tkkZQbtZgt1z"
   },
   "outputs": [],
   "source": [
    "# 최종적으로 예측하는 CF 추천시스템\n",
    "who = input(\"유저 번호를 입력하세요\")\n",
    "print(\"\\n\")\n",
    "result = algo.get_neighbors(index, k=10)\n",
    "print(\"당신과 비슷한 입맛을 가진 유저는? : \", result) # 입맛이 비슷한 열명의 사용자 번호\n",
    "print(\"\\n\")\n",
    "\n",
    "# user에게 추천하는 음식점\n",
    "print(\"추천 드리는 음식점은 : \")\n",
    "for r1 in result:\n",
    "    max_rating=data.rating_df[data.rating_df[\"user\"]==r1][\"rating\"].max()\n",
    "    store_id = data.rating_df[(data.rating_df[\"rating\"]==max_rating)&(data.rating_df[\"user\"]==r1)][\"store_name\"].values\n",
    "    \n",
    "    # 추천해주는 가게들 목록\n",
    "    for store_item im store_id:\n",
    "        print(store_list[store_item])\n",
    "        "
   ]
  },
  {
   "cell_type": "code",
   "execution_count": 0,
   "metadata": {
    "colab": {},
    "colab_type": "code",
    "id": "IDe33qsGgt3t"
   },
   "outputs": [],
   "source": []
  },
  {
   "cell_type": "code",
   "execution_count": 0,
   "metadata": {
    "colab": {},
    "colab_type": "code",
    "id": "GogHL_8Dgt5T"
   },
   "outputs": [],
   "source": []
  },
  {
   "cell_type": "code",
   "execution_count": 0,
   "metadata": {
    "colab": {},
    "colab_type": "code",
    "id": "xJNBfWUAgt8O"
   },
   "outputs": [],
   "source": []
  },
  {
   "cell_type": "code",
   "execution_count": 0,
   "metadata": {
    "colab": {},
    "colab_type": "code",
    "id": "-nM0mSqPgt-i"
   },
   "outputs": [],
   "source": []
  },
  {
   "cell_type": "code",
   "execution_count": 0,
   "metadata": {
    "colab": {},
    "colab_type": "code",
    "id": "TzMAKzUqgPU_"
   },
   "outputs": [],
   "source": []
  },
  {
   "cell_type": "code",
   "execution_count": 0,
   "metadata": {
    "colab": {},
    "colab_type": "code",
    "id": "NgXIX-jlgPW8"
   },
   "outputs": [],
   "source": []
  }
 ],
 "metadata": {
  "colab": {
   "collapsed_sections": [],
   "name": "CF_by_score.ipynb",
   "provenance": []
  },
  "kernelspec": {
   "display_name": "Python 3",
   "language": "python",
   "name": "python3"
  },
  "language_info": {
   "codemirror_mode": {
    "name": "ipython",
    "version": 3
   },
   "file_extension": ".py",
   "mimetype": "text/x-python",
   "name": "python",
   "nbconvert_exporter": "python",
   "pygments_lexer": "ipython3",
   "version": "3.6.5"
  }
 },
 "nbformat": 4,
 "nbformat_minor": 1
}
